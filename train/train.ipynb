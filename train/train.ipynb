{
 "cells": [
  {
   "cell_type": "code",
   "execution_count": null,
   "metadata": {},
   "outputs": [
    {
     "name": "stdout",
     "output_type": "stream",
     "text": [
      "\u001b[31mERROR: pip's dependency resolver does not currently take into account all the packages that are installed. This behaviour is the source of the following dependency conflicts.\n",
      "ray 1.5.0 requires filelock, which is not installed.\u001b[0m\n"
     ]
    }
   ],
   "source": [
    "!pip3 install -q tflite-model-maker\n",
    "!pip3 install -q pycocotools\n",
    "!pip3 install -q tflite-support"
   ]
  },
  {
   "cell_type": "code",
   "execution_count": 2,
   "metadata": {},
   "outputs": [],
   "source": [
    "import numpy as np\n",
    "import os\n",
    "\n",
    "from tflite_model_maker.config import ExportFormat\n",
    "from tflite_model_maker import model_spec\n",
    "from tflite_model_maker import object_detector\n",
    "\n",
    "import tensorflow as tf\n",
    "assert tf.__version__.startswith('2')\n",
    "\n",
    "tf.get_logger().setLevel('ERROR')\n",
    "from absl import logging\n",
    "logging.set_verbosity(logging.ERROR)"
   ]
  },
  {
   "cell_type": "code",
   "execution_count": 3,
   "metadata": {},
   "outputs": [
    {
     "name": "stderr",
     "output_type": "stream",
     "text": [
      "2022-03-10 17:18:42.448349: I tensorflow/core/platform/cpu_feature_guard.cc:151] This TensorFlow binary is optimized with oneAPI Deep Neural Network Library (oneDNN) to use the following CPU instructions in performance-critical operations:  AVX2 FMA\n",
      "To enable them in other operations, rebuild TensorFlow with the appropriate compiler flags.\n"
     ]
    }
   ],
   "source": [
    "spec = model_spec.get('efficientdet_lite2')"
   ]
  },
  {
   "cell_type": "code",
   "execution_count": 4,
   "metadata": {},
   "outputs": [
    {
     "name": "stderr",
     "output_type": "stream",
     "text": [
      "2022-03-10 17:18:45.161333: W tensorflow/core/platform/cloud/google_auth_provider.cc:184] All attempts to get a Google authentication bearer token failed, returning an empty token. Retrieving token from files failed with \"NOT_FOUND: Could not locate the credentials file.\". Retrieving token from GCE failed with \"FAILED_PRECONDITION: Error executing an HTTP request: libcurl code 6 meaning 'Couldn't resolve host name', error details: Could not resolve host: metadata\".\n",
      "2022-03-10 17:19:46.168930: E tensorflow/core/platform/cloud/curl_http_request.cc:614] The transmission  of request 0x7fde0ccd5c80 (URI: https://www.googleapis.com/storage/v1/b/content/o/driver%2FMyDriver%2Fdataset%2Fimages%2F23a2ec460bedd4ce.jpg?fields=size%2Cgeneration%2Cupdated) has been stuck at 0 of 0 bytes for 61 seconds and will be aborted. CURL timing information: lookup time: 0.00152 (No error), connect time: 0 (No error), pre-transfer time: 0 (No error), start-transfer time: 0 (No error)\n",
      "2022-03-10 17:20:47.905588: E tensorflow/core/platform/cloud/curl_http_request.cc:614] The transmission  of request 0x7fde0cac2290 (URI: https://www.googleapis.com/storage/v1/b/content/o/driver%2FMyDriver%2Fdataset%2Fimages%2F23a2ec460bedd4ce.jpg?fields=size%2Cgeneration%2Cupdated) has been stuck at 0 of 0 bytes for 61 seconds and will be aborted. CURL timing information: lookup time: 0.039298 (No error), connect time: 0 (No error), pre-transfer time: 0 (No error), start-transfer time: 0 (No error)\n",
      "2022-03-10 17:21:49.537452: E tensorflow/core/platform/cloud/curl_http_request.cc:614] The transmission  of request 0x7fde0cf68fb0 (URI: https://www.googleapis.com/storage/v1/b/content/o/driver%2FMyDriver%2Fdataset%2Fimages%2F23a2ec460bedd4ce.jpg?fields=size%2Cgeneration%2Cupdated) has been stuck at 0 of 0 bytes for 61 seconds and will be aborted. CURL timing information: lookup time: 0.001318 (No error), connect time: 0 (No error), pre-transfer time: 0 (No error), start-transfer time: 0 (No error)\n",
      "2022-03-10 17:22:51.898969: E tensorflow/core/platform/cloud/curl_http_request.cc:614] The transmission  of request 0x7fde0cac1400 (URI: https://www.googleapis.com/storage/v1/b/content/o/driver%2FMyDriver%2Fdataset%2Fimages%2F23a2ec460bedd4ce.jpg?fields=size%2Cgeneration%2Cupdated) has been stuck at 0 of 0 bytes for 61 seconds and will be aborted. CURL timing information: lookup time: 0.002173 (No error), connect time: 0 (No error), pre-transfer time: 0 (No error), start-transfer time: 0 (No error)\n",
      "2022-03-10 17:23:53.996753: E tensorflow/core/platform/cloud/curl_http_request.cc:614] The transmission  of request 0x7fde0cf68f50 (URI: https://www.googleapis.com/storage/v1/b/content/o/driver%2FMyDriver%2Fdataset%2Fimages%2F23a2ec460bedd4ce.jpg?fields=size%2Cgeneration%2Cupdated) has been stuck at 0 of 0 bytes for 61 seconds and will be aborted. CURL timing information: lookup time: 0.00323 (No error), connect time: 0 (No error), pre-transfer time: 0 (No error), start-transfer time: 0 (No error)\n",
      "2022-03-10 17:24:57.443825: E tensorflow/core/platform/cloud/curl_http_request.cc:614] The transmission  of request 0x7fde0c294270 (URI: https://www.googleapis.com/storage/v1/b/content/o/driver%2FMyDriver%2Fdataset%2Fimages%2F23a2ec460bedd4ce.jpg?fields=size%2Cgeneration%2Cupdated) has been stuck at 0 of 0 bytes for 61 seconds and will be aborted. CURL timing information: lookup time: 0.002661 (No error), connect time: 0 (No error), pre-transfer time: 0 (No error), start-transfer time: 0 (No error)\n",
      "2022-03-10 17:26:01.900786: E tensorflow/core/platform/cloud/curl_http_request.cc:614] The transmission  of request 0x7fde1a1e6d40 (URI: https://www.googleapis.com/storage/v1/b/content/o/driver%2FMyDriver%2Fdataset%2Fimages%2F23a2ec460bedd4ce.jpg?fields=size%2Cgeneration%2Cupdated) has been stuck at 0 of 0 bytes for 61 seconds and will be aborted. CURL timing information: lookup time: 0.002407 (No error), connect time: 0 (No error), pre-transfer time: 0 (No error), start-transfer time: 0 (No error)\n",
      "2022-03-10 17:27:09.614441: E tensorflow/core/platform/cloud/curl_http_request.cc:614] The transmission  of request 0x7fde0ccd6d50 (URI: https://www.googleapis.com/storage/v1/b/content/o/driver%2FMyDriver%2Fdataset%2Fimages%2F23a2ec460bedd4ce.jpg?fields=size%2Cgeneration%2Cupdated) has been stuck at 0 of 0 bytes for 61 seconds and will be aborted. CURL timing information: lookup time: 0.002326 (No error), connect time: 0 (No error), pre-transfer time: 0 (No error), start-transfer time: 0 (No error)\n",
      "2022-03-10 17:28:24.372732: E tensorflow/core/platform/cloud/curl_http_request.cc:614] The transmission  of request 0x7fde0cac1400 (URI: https://www.googleapis.com/storage/v1/b/content/o/driver%2FMyDriver%2Fdataset%2Fimages%2F23a2ec460bedd4ce.jpg?fields=size%2Cgeneration%2Cupdated) has been stuck at 0 of 0 bytes for 61 seconds and will be aborted. CURL timing information: lookup time: 0.00313 (No error), connect time: 0 (No error), pre-transfer time: 0 (No error), start-transfer time: 0 (No error)\n",
      "2022-03-10 17:29:51.362259: E tensorflow/core/platform/cloud/curl_http_request.cc:614] The transmission  of request 0x7fde0cac1050 (URI: https://www.googleapis.com/storage/v1/b/content/o/driver%2FMyDriver%2Fdataset%2Fimages%2F23a2ec460bedd4ce.jpg?fields=size%2Cgeneration%2Cupdated) has been stuck at 0 of 0 bytes for 61 seconds and will be aborted. CURL timing information: lookup time: 0.003067 (No error), connect time: 0 (No error), pre-transfer time: 0 (No error), start-transfer time: 0 (No error)\n",
      "2022-03-10 17:31:25.372456: E tensorflow/core/platform/cloud/curl_http_request.cc:614] The transmission  of request 0x7fde0ccd6d50 (URI: https://www.googleapis.com/storage/v1/b/content/o/driver%2FMyDriver%2Fdataset%2Fimages%2F23a2ec460bedd4ce.jpg?fields=size%2Cgeneration%2Cupdated) has been stuck at 0 of 0 bytes for 61 seconds and will be aborted. CURL timing information: lookup time: 0.044826 (No error), connect time: 2.18353 (No error), pre-transfer time: 0 (No error), start-transfer time: 0 (No error)\n"
     ]
    },
    {
     "ename": "AbortedError",
     "evalue": "All 10 retry attempts failed. The last failure: Error executing an HTTP request: libcurl code 42 meaning 'Operation was aborted by an application callback', error details: Callback aborted\n\t when reading metadata of gs://content/driver/MyDriver/dataset/images/23a2ec460bedd4ce.jpg",
     "output_type": "error",
     "traceback": [
      "\u001b[0;31m---------------------------------------------------------------------------\u001b[0m",
      "\u001b[0;31mAbortedError\u001b[0m                              Traceback (most recent call last)",
      "\u001b[1;32m/Users/4paradigm/workspace/python/football_detection/train.ipynb Cell 4'\u001b[0m in \u001b[0;36m<cell line: 1>\u001b[0;34m()\u001b[0m\n\u001b[0;32m----> <a href='vscode-notebook-cell:/Users/4paradigm/workspace/python/football_detection/train.ipynb#ch0000004?line=0'>1</a>\u001b[0m train_data, validation_data, test_data \u001b[39m=\u001b[39m object_detector\u001b[39m.\u001b[39;49mDataLoader\u001b[39m.\u001b[39;49mfrom_csv(\u001b[39m'\u001b[39;49m\u001b[39m./labels.csv\u001b[39;49m\u001b[39m'\u001b[39;49m)\n\u001b[1;32m      <a href='vscode-notebook-cell:/Users/4paradigm/workspace/python/football_detection/train.ipynb#ch0000004?line=1'>2</a>\u001b[0m \u001b[39mprint\u001b[39m(train_data)\n",
      "File \u001b[0;32m~/opt/miniconda3/lib/python3.8/site-packages/tensorflow_examples/lite/model_maker/core/data_util/object_detector_dataloader.py:292\u001b[0m, in \u001b[0;36mDataLoader.from_csv\u001b[0;34m(cls, filename, images_dir, delimiter, quotechar, num_shards, max_num_images, cache_dir, cache_prefix_filename)\u001b[0m\n\u001b[1;32m    <a href='file:///Users/4paradigm/opt/miniconda3/lib/python3.8/site-packages/tensorflow_examples/lite/model_maker/core/data_util/object_detector_dataloader.py?line=289'>290</a>\u001b[0m   \u001b[39mfor\u001b[39;00m cache_files, csv_lines \u001b[39min\u001b[39;00m \u001b[39mzip\u001b[39m(cache_files_list, lines_list):\n\u001b[1;32m    <a href='file:///Users/4paradigm/opt/miniconda3/lib/python3.8/site-packages/tensorflow_examples/lite/model_maker/core/data_util/object_detector_dataloader.py?line=290'>291</a>\u001b[0m     \u001b[39mif\u001b[39;00m csv_lines:\n\u001b[0;32m--> <a href='file:///Users/4paradigm/opt/miniconda3/lib/python3.8/site-packages/tensorflow_examples/lite/model_maker/core/data_util/object_detector_dataloader.py?line=291'>292</a>\u001b[0m       cache_writer\u001b[39m.\u001b[39;49mwrite_files(cache_files, csv_lines\u001b[39m=\u001b[39;49mcsv_lines)\n\u001b[1;32m    <a href='file:///Users/4paradigm/opt/miniconda3/lib/python3.8/site-packages/tensorflow_examples/lite/model_maker/core/data_util/object_detector_dataloader.py?line=293'>294</a>\u001b[0m \u001b[39m# Loads training & validation & test data from cache.\u001b[39;00m\n\u001b[1;32m    <a href='file:///Users/4paradigm/opt/miniconda3/lib/python3.8/site-packages/tensorflow_examples/lite/model_maker/core/data_util/object_detector_dataloader.py?line=294'>295</a>\u001b[0m data \u001b[39m=\u001b[39m []\n",
      "File \u001b[0;32m~/opt/miniconda3/lib/python3.8/site-packages/tensorflow_examples/lite/model_maker/core/data_util/object_detector_dataloader_util.py:247\u001b[0m, in \u001b[0;36mCacheFilesWriter.write_files\u001b[0;34m(self, cache_files, *args, **kwargs)\u001b[0m\n\u001b[1;32m    <a href='file:///Users/4paradigm/opt/miniconda3/lib/python3.8/site-packages/tensorflow_examples/lite/model_maker/core/data_util/object_detector_dataloader_util.py?line=244'>245</a>\u001b[0m \u001b[39m# Writes tf.Example into TFRecord files.\u001b[39;00m\n\u001b[1;32m    <a href='file:///Users/4paradigm/opt/miniconda3/lib/python3.8/site-packages/tensorflow_examples/lite/model_maker/core/data_util/object_detector_dataloader_util.py?line=245'>246</a>\u001b[0m size \u001b[39m=\u001b[39m \u001b[39m0\u001b[39m\n\u001b[0;32m--> <a href='file:///Users/4paradigm/opt/miniconda3/lib/python3.8/site-packages/tensorflow_examples/lite/model_maker/core/data_util/object_detector_dataloader_util.py?line=246'>247</a>\u001b[0m \u001b[39mfor\u001b[39;00m idx, xml_dict \u001b[39min\u001b[39;00m \u001b[39menumerate\u001b[39m(\u001b[39mself\u001b[39m\u001b[39m.\u001b[39m_get_xml_dict(\u001b[39m*\u001b[39margs, \u001b[39m*\u001b[39m\u001b[39m*\u001b[39mkwargs)):\n\u001b[1;32m    <a href='file:///Users/4paradigm/opt/miniconda3/lib/python3.8/site-packages/tensorflow_examples/lite/model_maker/core/data_util/object_detector_dataloader_util.py?line=247'>248</a>\u001b[0m   \u001b[39mif\u001b[39;00m \u001b[39mself\u001b[39m\u001b[39m.\u001b[39mmax_num_images \u001b[39mand\u001b[39;00m idx \u001b[39m>\u001b[39m\u001b[39m=\u001b[39m \u001b[39mself\u001b[39m\u001b[39m.\u001b[39mmax_num_images:\n\u001b[1;32m    <a href='file:///Users/4paradigm/opt/miniconda3/lib/python3.8/site-packages/tensorflow_examples/lite/model_maker/core/data_util/object_detector_dataloader_util.py?line=248'>249</a>\u001b[0m     \u001b[39mbreak\u001b[39;00m\n",
      "File \u001b[0;32m~/opt/miniconda3/lib/python3.8/site-packages/tensorflow_examples/lite/model_maker/core/data_util/object_detector_dataloader_util.py:380\u001b[0m, in \u001b[0;36mCsvCacheFilesWriter._get_xml_dict\u001b[0;34m(self, csv_lines)\u001b[0m\n\u001b[1;32m    <a href='file:///Users/4paradigm/opt/miniconda3/lib/python3.8/site-packages/tensorflow_examples/lite/model_maker/core/data_util/object_detector_dataloader_util.py?line=374'>375</a>\u001b[0m   image_dict[image_filename]\u001b[39m.\u001b[39mappend(line)\n\u001b[1;32m    <a href='file:///Users/4paradigm/opt/miniconda3/lib/python3.8/site-packages/tensorflow_examples/lite/model_maker/core/data_util/object_detector_dataloader_util.py?line=376'>377</a>\u001b[0m \u001b[39mfor\u001b[39;00m image_filename, lines \u001b[39min\u001b[39;00m image_dict\u001b[39m.\u001b[39mitems():\n\u001b[1;32m    <a href='file:///Users/4paradigm/opt/miniconda3/lib/python3.8/site-packages/tensorflow_examples/lite/model_maker/core/data_util/object_detector_dataloader_util.py?line=377'>378</a>\u001b[0m   \u001b[39m# Converts csv_lines for a certain image to dict holding PASCAL VOC XML\u001b[39;00m\n\u001b[1;32m    <a href='file:///Users/4paradigm/opt/miniconda3/lib/python3.8/site-packages/tensorflow_examples/lite/model_maker/core/data_util/object_detector_dataloader_util.py?line=378'>379</a>\u001b[0m   \u001b[39m# fields.\u001b[39;00m\n\u001b[0;32m--> <a href='file:///Users/4paradigm/opt/miniconda3/lib/python3.8/site-packages/tensorflow_examples/lite/model_maker/core/data_util/object_detector_dataloader_util.py?line=379'>380</a>\u001b[0m   xml_dict \u001b[39m=\u001b[39m _get_xml_dict_from_csv_lines(\u001b[39mself\u001b[39;49m\u001b[39m.\u001b[39;49mimages_dir, image_filename,\n\u001b[1;32m    <a href='file:///Users/4paradigm/opt/miniconda3/lib/python3.8/site-packages/tensorflow_examples/lite/model_maker/core/data_util/object_detector_dataloader_util.py?line=380'>381</a>\u001b[0m                                           lines)\n\u001b[1;32m    <a href='file:///Users/4paradigm/opt/miniconda3/lib/python3.8/site-packages/tensorflow_examples/lite/model_maker/core/data_util/object_detector_dataloader_util.py?line=381'>382</a>\u001b[0m   \u001b[39myield\u001b[39;00m xml_dict\n",
      "File \u001b[0;32m~/opt/miniconda3/lib/python3.8/site-packages/tensorflow_examples/lite/model_maker/core/data_util/object_detector_dataloader_util.py:321\u001b[0m, in \u001b[0;36m_get_xml_dict_from_csv_lines\u001b[0;34m(images_dir, image_filename, lines)\u001b[0m\n\u001b[1;32m    <a href='file:///Users/4paradigm/opt/miniconda3/lib/python3.8/site-packages/tensorflow_examples/lite/model_maker/core/data_util/object_detector_dataloader_util.py?line=318'>319</a>\u001b[0m image_path \u001b[39m=\u001b[39m os\u001b[39m.\u001b[39mpath\u001b[39m.\u001b[39mjoin(images_dir, image_filename)\n\u001b[1;32m    <a href='file:///Users/4paradigm/opt/miniconda3/lib/python3.8/site-packages/tensorflow_examples/lite/model_maker/core/data_util/object_detector_dataloader_util.py?line=319'>320</a>\u001b[0m \u001b[39mwith\u001b[39;00m tf\u001b[39m.\u001b[39mio\u001b[39m.\u001b[39mgfile\u001b[39m.\u001b[39mGFile(image_path, \u001b[39m'\u001b[39m\u001b[39mrb\u001b[39m\u001b[39m'\u001b[39m) \u001b[39mas\u001b[39;00m fid:\n\u001b[0;32m--> <a href='file:///Users/4paradigm/opt/miniconda3/lib/python3.8/site-packages/tensorflow_examples/lite/model_maker/core/data_util/object_detector_dataloader_util.py?line=320'>321</a>\u001b[0m   encoded_jpg \u001b[39m=\u001b[39m fid\u001b[39m.\u001b[39;49mread()\n\u001b[1;32m    <a href='file:///Users/4paradigm/opt/miniconda3/lib/python3.8/site-packages/tensorflow_examples/lite/model_maker/core/data_util/object_detector_dataloader_util.py?line=321'>322</a>\u001b[0m encoded_jpg_io \u001b[39m=\u001b[39m io\u001b[39m.\u001b[39mBytesIO(encoded_jpg)\n\u001b[1;32m    <a href='file:///Users/4paradigm/opt/miniconda3/lib/python3.8/site-packages/tensorflow_examples/lite/model_maker/core/data_util/object_detector_dataloader_util.py?line=322'>323</a>\u001b[0m image \u001b[39m=\u001b[39m PIL\u001b[39m.\u001b[39mImage\u001b[39m.\u001b[39mopen(encoded_jpg_io)\n",
      "File \u001b[0;32m~/opt/miniconda3/lib/python3.8/site-packages/tensorflow/python/lib/io/file_io.py:116\u001b[0m, in \u001b[0;36mFileIO.read\u001b[0;34m(self, n)\u001b[0m\n\u001b[1;32m    <a href='file:///Users/4paradigm/opt/miniconda3/lib/python3.8/site-packages/tensorflow/python/lib/io/file_io.py?line=113'>114</a>\u001b[0m \u001b[39mself\u001b[39m\u001b[39m.\u001b[39m_preread_check()\n\u001b[1;32m    <a href='file:///Users/4paradigm/opt/miniconda3/lib/python3.8/site-packages/tensorflow/python/lib/io/file_io.py?line=114'>115</a>\u001b[0m \u001b[39mif\u001b[39;00m n \u001b[39m==\u001b[39m \u001b[39m-\u001b[39m\u001b[39m1\u001b[39m:\n\u001b[0;32m--> <a href='file:///Users/4paradigm/opt/miniconda3/lib/python3.8/site-packages/tensorflow/python/lib/io/file_io.py?line=115'>116</a>\u001b[0m   length \u001b[39m=\u001b[39m \u001b[39mself\u001b[39;49m\u001b[39m.\u001b[39;49msize() \u001b[39m-\u001b[39m \u001b[39mself\u001b[39m\u001b[39m.\u001b[39mtell()\n\u001b[1;32m    <a href='file:///Users/4paradigm/opt/miniconda3/lib/python3.8/site-packages/tensorflow/python/lib/io/file_io.py?line=116'>117</a>\u001b[0m \u001b[39melse\u001b[39;00m:\n\u001b[1;32m    <a href='file:///Users/4paradigm/opt/miniconda3/lib/python3.8/site-packages/tensorflow/python/lib/io/file_io.py?line=117'>118</a>\u001b[0m   length \u001b[39m=\u001b[39m n\n",
      "File \u001b[0;32m~/opt/miniconda3/lib/python3.8/site-packages/tensorflow/python/lib/io/file_io.py:95\u001b[0m, in \u001b[0;36mFileIO.size\u001b[0;34m(self)\u001b[0m\n\u001b[1;32m     <a href='file:///Users/4paradigm/opt/miniconda3/lib/python3.8/site-packages/tensorflow/python/lib/io/file_io.py?line=92'>93</a>\u001b[0m \u001b[39mdef\u001b[39;00m \u001b[39msize\u001b[39m(\u001b[39mself\u001b[39m):\n\u001b[1;32m     <a href='file:///Users/4paradigm/opt/miniconda3/lib/python3.8/site-packages/tensorflow/python/lib/io/file_io.py?line=93'>94</a>\u001b[0m   \u001b[39m\"\"\"Returns the size of the file.\"\"\"\u001b[39;00m\n\u001b[0;32m---> <a href='file:///Users/4paradigm/opt/miniconda3/lib/python3.8/site-packages/tensorflow/python/lib/io/file_io.py?line=94'>95</a>\u001b[0m   \u001b[39mreturn\u001b[39;00m stat(\u001b[39mself\u001b[39;49m\u001b[39m.\u001b[39;49m__name)\u001b[39m.\u001b[39mlength\n",
      "File \u001b[0;32m~/opt/miniconda3/lib/python3.8/site-packages/tensorflow/python/lib/io/file_io.py:906\u001b[0m, in \u001b[0;36mstat\u001b[0;34m(filename)\u001b[0m\n\u001b[1;32m    <a href='file:///Users/4paradigm/opt/miniconda3/lib/python3.8/site-packages/tensorflow/python/lib/io/file_io.py?line=892'>893</a>\u001b[0m \u001b[39m@tf_export\u001b[39m(v1\u001b[39m=\u001b[39m[\u001b[39m\"\u001b[39m\u001b[39mgfile.Stat\u001b[39m\u001b[39m\"\u001b[39m])\n\u001b[1;32m    <a href='file:///Users/4paradigm/opt/miniconda3/lib/python3.8/site-packages/tensorflow/python/lib/io/file_io.py?line=893'>894</a>\u001b[0m \u001b[39mdef\u001b[39;00m \u001b[39mstat\u001b[39m(filename):\n\u001b[1;32m    <a href='file:///Users/4paradigm/opt/miniconda3/lib/python3.8/site-packages/tensorflow/python/lib/io/file_io.py?line=894'>895</a>\u001b[0m   \u001b[39m\"\"\"Returns file statistics for a given path.\u001b[39;00m\n\u001b[1;32m    <a href='file:///Users/4paradigm/opt/miniconda3/lib/python3.8/site-packages/tensorflow/python/lib/io/file_io.py?line=895'>896</a>\u001b[0m \n\u001b[1;32m    <a href='file:///Users/4paradigm/opt/miniconda3/lib/python3.8/site-packages/tensorflow/python/lib/io/file_io.py?line=896'>897</a>\u001b[0m \u001b[39m  Args:\u001b[39;00m\n\u001b[0;32m   (...)\u001b[0m\n\u001b[1;32m    <a href='file:///Users/4paradigm/opt/miniconda3/lib/python3.8/site-packages/tensorflow/python/lib/io/file_io.py?line=903'>904</a>\u001b[0m \u001b[39m    errors.OpError: If the operation fails.\u001b[39;00m\n\u001b[1;32m    <a href='file:///Users/4paradigm/opt/miniconda3/lib/python3.8/site-packages/tensorflow/python/lib/io/file_io.py?line=904'>905</a>\u001b[0m \u001b[39m  \"\"\"\u001b[39;00m\n\u001b[0;32m--> <a href='file:///Users/4paradigm/opt/miniconda3/lib/python3.8/site-packages/tensorflow/python/lib/io/file_io.py?line=905'>906</a>\u001b[0m   \u001b[39mreturn\u001b[39;00m stat_v2(filename)\n",
      "File \u001b[0;32m~/opt/miniconda3/lib/python3.8/site-packages/tensorflow/python/lib/io/file_io.py:922\u001b[0m, in \u001b[0;36mstat_v2\u001b[0;34m(path)\u001b[0m\n\u001b[1;32m    <a href='file:///Users/4paradigm/opt/miniconda3/lib/python3.8/site-packages/tensorflow/python/lib/io/file_io.py?line=908'>909</a>\u001b[0m \u001b[39m@tf_export\u001b[39m(\u001b[39m\"\u001b[39m\u001b[39mio.gfile.stat\u001b[39m\u001b[39m\"\u001b[39m)\n\u001b[1;32m    <a href='file:///Users/4paradigm/opt/miniconda3/lib/python3.8/site-packages/tensorflow/python/lib/io/file_io.py?line=909'>910</a>\u001b[0m \u001b[39mdef\u001b[39;00m \u001b[39mstat_v2\u001b[39m(path):\n\u001b[1;32m    <a href='file:///Users/4paradigm/opt/miniconda3/lib/python3.8/site-packages/tensorflow/python/lib/io/file_io.py?line=910'>911</a>\u001b[0m   \u001b[39m\"\"\"Returns file statistics for a given path.\u001b[39;00m\n\u001b[1;32m    <a href='file:///Users/4paradigm/opt/miniconda3/lib/python3.8/site-packages/tensorflow/python/lib/io/file_io.py?line=911'>912</a>\u001b[0m \n\u001b[1;32m    <a href='file:///Users/4paradigm/opt/miniconda3/lib/python3.8/site-packages/tensorflow/python/lib/io/file_io.py?line=912'>913</a>\u001b[0m \u001b[39m  Args:\u001b[39;00m\n\u001b[0;32m   (...)\u001b[0m\n\u001b[1;32m    <a href='file:///Users/4paradigm/opt/miniconda3/lib/python3.8/site-packages/tensorflow/python/lib/io/file_io.py?line=919'>920</a>\u001b[0m \u001b[39m    errors.OpError: If the operation fails.\u001b[39;00m\n\u001b[1;32m    <a href='file:///Users/4paradigm/opt/miniconda3/lib/python3.8/site-packages/tensorflow/python/lib/io/file_io.py?line=920'>921</a>\u001b[0m \u001b[39m  \"\"\"\u001b[39;00m\n\u001b[0;32m--> <a href='file:///Users/4paradigm/opt/miniconda3/lib/python3.8/site-packages/tensorflow/python/lib/io/file_io.py?line=921'>922</a>\u001b[0m   \u001b[39mreturn\u001b[39;00m _pywrap_file_io\u001b[39m.\u001b[39;49mStat(compat\u001b[39m.\u001b[39;49mpath_to_str(path))\n",
      "\u001b[0;31mAbortedError\u001b[0m: All 10 retry attempts failed. The last failure: Error executing an HTTP request: libcurl code 42 meaning 'Operation was aborted by an application callback', error details: Callback aborted\n\t when reading metadata of gs://content/driver/MyDriver/dataset/images/23a2ec460bedd4ce.jpg"
     ]
    }
   ],
   "source": [
    "train_data, validation_data, test_data = object_detector.DataLoader.from_csv('./labels.csv')\n",
    "print(train_data)"
   ]
  }
 ],
 "metadata": {
  "interpreter": {
   "hash": "8e0212fb70f31178829d895151bd5054018867f5ddfe1e7702031bd0d6631215"
  },
  "kernelspec": {
   "display_name": "Python 3.8.10 ('base')",
   "language": "python",
   "name": "python3"
  },
  "language_info": {
   "codemirror_mode": {
    "name": "ipython",
    "version": 3
   },
   "file_extension": ".py",
   "mimetype": "text/x-python",
   "name": "python",
   "nbconvert_exporter": "python",
   "pygments_lexer": "ipython3",
   "version": "3.8.10"
  },
  "orig_nbformat": 4
 },
 "nbformat": 4,
 "nbformat_minor": 2
}
